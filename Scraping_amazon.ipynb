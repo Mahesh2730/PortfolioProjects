{
 "cells": [
  {
   "cell_type": "code",
   "execution_count": 9,
   "id": "bba12d4b-0007-4059-8b31-599e38699b47",
   "metadata": {},
   "outputs": [],
   "source": [
    "#importing libraries\n",
    "\n",
    "from bs4 import BeautifulSoup\n",
    "import requests\n",
    "import time\n",
    "import datetime\n",
    "import csv"
   ]
  },
  {
   "cell_type": "code",
   "execution_count": 13,
   "id": "f6b09a6a-f5f3-42df-bc79-5973c9cd1cbe",
   "metadata": {},
   "outputs": [],
   "source": [
    "# Headers\n",
    "headers = {\n",
    "    \"User-Agent\": \"Mozilla/5.0 (Windows NT 10.0; Win64; x64) AppleWebKit/537.36 (KHTML, like Gecko) Chrome/114.0.5735.199 Safari/537.36\",\n",
    "    \"Accept-Encoding\": \"gzip, deflate\", \n",
    "    \"Accept\": \"text/html,application/xhtml+xml,application/xml;q=0.9,*/*;q=0.8\", \n",
    "    \"DNT\": \"1\", \n",
    "    \"Connection\": \"close\", \n",
    "    \"Upgrade-Insecure-Requests\": \"1\"\n",
    "}\n",
    "\n",
    "# Product page URL \n",
    "URL = 'https://www.amazon.com/Funny-Data-Systems-Business-Analyst/dp/B07FNW9FGJ/ref=sr_1_3?dchild=1&keywords=data+analyst+tshirt&qid=1626655184&sr=8-3&customId=B0752XJYNL&th=1&language=en_US&currency=USD'\n"
   ]
  },
  {
   "cell_type": "code",
   "execution_count": 27,
   "id": "e1e484cf-2fe3-4cde-95f7-cad1fb2bd4b4",
   "metadata": {},
   "outputs": [
    {
     "name": "stdout",
     "output_type": "stream",
     "text": [
      "Product: Funny Got Data MIS Data Systems Business Analyst T-Shirt\n",
      "Price: 12..97\n"
     ]
    }
   ],
   "source": [
    "# Function to get product title and price.\n",
    "\n",
    "def check_price():\n",
    "    page = requests.get(URL, headers=headers)\n",
    "    soup = BeautifulSoup(page.content, \"html.parser\")\n",
    "    \n",
    "    # To check if it is changed the structure for title and price\n",
    "    \n",
    "    try:\n",
    "        #  To get the title of the product\n",
    "        title = soup.find(\"span\", {\"id\": \"productTitle\"}).get_text().strip()\n",
    "\n",
    "        # Let's find the whole price and fraction price separately and combine them.\n",
    "        try:\n",
    "            whole_price = soup.find(\"span\", {\"class\": \"a-price-whole\"}).get_text().strip()\n",
    "            fraction_price = soup.find(\"span\", {\"class\": \"a-price-fraction\"}).get_text().strip()\n",
    "            price = f\"{whole_price}.{fraction_price}\"  # Combine whole and fraction parts\n",
    "        except AttributeError:\n",
    "            price = \"Price not available\"\n",
    "\n",
    "        # Cleaning the data\n",
    "        title = title.strip()\n",
    "        price = price.replace(',', '')  # Remove commas if price has any\n",
    "\n",
    "        #To Print and save the data\n",
    "        print(f\"Product: {title}\")\n",
    "        print(f\"Price: {price}\")\n",
    "        \n",
    "        today = datetime.date.today()\n",
    "\n",
    "        # Saving the data to a CSV\n",
    "        with open('AmazonWebScraperDataset.csv', 'a+', newline='', encoding='UTF8') as f:\n",
    "            writer = csv.writer(f)\n",
    "            writer.writerow([title, price, today])\n",
    "\n",
    "    except Exception as e:\n",
    "        print(f\"Error occurred: {e}\")\n",
    "\n",
    "# Now run the function and see what happens\n",
    "check_price()\n"
   ]
  },
  {
   "cell_type": "code",
   "execution_count": null,
   "id": "c7ee3198-6fa9-45ce-b6aa-d69c36aa8cdf",
   "metadata": {},
   "outputs": [],
   "source": []
  },
  {
   "cell_type": "code",
   "execution_count": null,
   "id": "4dc7d52a-331a-43bb-8304-e0d9543c6146",
   "metadata": {},
   "outputs": [],
   "source": []
  },
  {
   "cell_type": "code",
   "execution_count": null,
   "id": "52ba2e14-5c42-4bb9-a5af-da3ad7c739b0",
   "metadata": {},
   "outputs": [],
   "source": []
  },
  {
   "cell_type": "code",
   "execution_count": null,
   "id": "ebf964df-8144-41df-91e8-37ca248ae9da",
   "metadata": {},
   "outputs": [],
   "source": []
  },
  {
   "cell_type": "code",
   "execution_count": null,
   "id": "4e8816b6-ef66-4b46-b3c9-eba48579c4a4",
   "metadata": {},
   "outputs": [],
   "source": []
  },
  {
   "cell_type": "code",
   "execution_count": null,
   "id": "2c53f71b-91e6-447d-9d13-b2fdcd3754d6",
   "metadata": {},
   "outputs": [],
   "source": []
  },
  {
   "cell_type": "code",
   "execution_count": null,
   "id": "06c55c8f-53b5-4ce9-833a-0f47b0edc34e",
   "metadata": {},
   "outputs": [],
   "source": []
  },
  {
   "cell_type": "code",
   "execution_count": null,
   "id": "f5cf54d0-1dfb-4660-8fb1-200f3a77f561",
   "metadata": {},
   "outputs": [],
   "source": []
  },
  {
   "cell_type": "code",
   "execution_count": null,
   "id": "d0a026a4-345c-4732-9f1e-289d7ee0f2a7",
   "metadata": {},
   "outputs": [],
   "source": []
  },
  {
   "cell_type": "code",
   "execution_count": null,
   "id": "8f81463b-cd85-467f-bce1-54648d34205b",
   "metadata": {},
   "outputs": [],
   "source": []
  },
  {
   "cell_type": "code",
   "execution_count": null,
   "id": "faf88771-2db9-4f0c-b319-0eab12747fed",
   "metadata": {},
   "outputs": [],
   "source": []
  },
  {
   "cell_type": "code",
   "execution_count": null,
   "id": "83c79c35-c8f4-496a-9e34-d5d6c1c03500",
   "metadata": {},
   "outputs": [],
   "source": []
  },
  {
   "cell_type": "code",
   "execution_count": null,
   "id": "35324b61-02ce-4e88-9641-ae5968c19f09",
   "metadata": {},
   "outputs": [],
   "source": []
  },
  {
   "cell_type": "code",
   "execution_count": null,
   "id": "5a38062e-8689-413b-9689-4dc521827676",
   "metadata": {},
   "outputs": [],
   "source": []
  },
  {
   "cell_type": "code",
   "execution_count": null,
   "id": "993276f1-aea1-4409-8b14-b2af96f20ce4",
   "metadata": {},
   "outputs": [],
   "source": []
  }
 ],
 "metadata": {
  "kernelspec": {
   "display_name": "Python 3 (ipykernel)",
   "language": "python",
   "name": "python3"
  },
  "language_info": {
   "codemirror_mode": {
    "name": "ipython",
    "version": 3
   },
   "file_extension": ".py",
   "mimetype": "text/x-python",
   "name": "python",
   "nbconvert_exporter": "python",
   "pygments_lexer": "ipython3",
   "version": "3.12.4"
  }
 },
 "nbformat": 4,
 "nbformat_minor": 5
}
